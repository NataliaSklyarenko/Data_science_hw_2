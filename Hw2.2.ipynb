{
  "cells": [
    {
      "cell_type": "code",
      "execution_count": 1,
      "metadata": {
        "colab": {
          "base_uri": "https://localhost:8080/"
        },
        "id": "mF3UosApbjLw",
        "outputId": "c2383c27-d895-4367-df6c-bc366bbdbabc"
      },
      "outputs": [
        {
          "name": "stdout",
          "output_type": "stream",
          "text": [
            "<bound method NDFrame.head of          N                    Посада Мова програмування Спеціалізація  \\\n",
            "0        1        Junior QA engineer                NaN     Manual QA   \n",
            "1        2        Junior QA engineer                NaN     Manual QA   \n",
            "2        3         Software Engineer            C#/.NET           NaN   \n",
            "3        4         Software Engineer         JavaScript           NaN   \n",
            "4        5  Senior Software Engineer         JavaScript           NaN   \n",
            "...    ...                       ...                ...           ...   \n",
            "8699  8700               QA engineer                NaN     Manual QA   \n",
            "8700  8701                 Marketing                NaN           NaN   \n",
            "8701  8702  Junior Software Engineer         Ruby/Rails           NaN   \n",
            "8702  8703                 Team lead                NaN           NaN   \n",
            "8703  8704  Senior Software Engineer               Java           NaN   \n",
            "\n",
            "     Загальний досвід роботи Досвід роботи на поточному місці  \\\n",
            "0                        0.5                              0.5   \n",
            "1            менше 3 місяців                  менше 3 місяців   \n",
            "2                          4                                1   \n",
            "3                          5                                4   \n",
            "4          10 і більше років                              0.5   \n",
            "...                      ...                              ...   \n",
            "8699                       1                  менше 3 місяців   \n",
            "8700                     0.5                              0.5   \n",
            "8701                       1                              0.5   \n",
            "8702                       6                                4   \n",
            "8703                       7                                2   \n",
            "\n",
            "      Зарплата на місяць  Зміна зарплати за 12 місяців   Місто  \\\n",
            "0                    400                             0  Харків   \n",
            "1                    430                           130  Харків   \n",
            "2                   2500                           800    Київ   \n",
            "3                   2000                           400   Одеса   \n",
            "4                   4500                           500    Інше   \n",
            "...                  ...                           ...     ...   \n",
            "8699                 700                           700   Одеса   \n",
            "8700                 400                           120    Київ   \n",
            "8701                 800                           500   Львів   \n",
            "8702                2600                             0  Дніпро   \n",
            "8703                5000                           800   Одеса   \n",
            "\n",
            "       Розмір компанії  ... Ще студент                    Рівень англійської  \\\n",
            "0           до 10 осіб  ...       True    Pre-intermediate (нище середнього)   \n",
            "1     більше 1000 осіб  ...       True  Upper-Intermediate (вище середнього)   \n",
            "2         до 1000 осіб  ...      False               Intermediate (середній)   \n",
            "3          до 200 осіб  ...      False    Pre-intermediate (нище середнього)   \n",
            "4           до 10 осіб  ...      False               Intermediate (середній)   \n",
            "...                ...  ...        ...                                   ...   \n",
            "8699        до 50 осіб  ...      False               Intermediate (середній)   \n",
            "8700        до 50 осіб  ...      False    Pre-intermediate (нище середнього)   \n",
            "8701        до 10 осіб  ...      False  Upper-Intermediate (вище середнього)   \n",
            "8702  більше 1000 осіб  ...      False                 Advanced (просунутий)   \n",
            "8703      до 1000 осіб  ...      False  Upper-Intermediate (вище середнього)   \n",
            "\n",
            "                      Предметна область      Дата заповнення  \\\n",
            "0                         iOS,eCommerce  12/06/2017 12:38:08   \n",
            "1                          Веб-розробка  12/06/2017 12:42:51   \n",
            "2     Веб-розробка,Корпоративні системи  12/06/2017 13:02:47   \n",
            "3     Desktop Applications,Веб-розробка  12/06/2017 13:03:01   \n",
            "4     Desktop Applications,Веб-розробка  12/06/2017 13:03:47   \n",
            "...                                 ...                  ...   \n",
            "8699       Android,Desktop Applications  12/07/2017 15:45:24   \n",
            "8700                          eCommerce  12/07/2017 17:00:06   \n",
            "8701  Веб-розробка,Корпоративні системи  12/07/2017 17:32:26   \n",
            "8702                 Фінанси та банкінг  12/07/2017 18:14:59   \n",
            "8703                       Веб-розробка  12/07/2017 21:28:57   \n",
            "\n",
            "                                             User.Agent   exp current_job_exp  \\\n",
            "0     Mozilla/5.0 (Windows NT 10.0; Win64; x64) Appl...   0.5             0.5   \n",
            "1     Mozilla/5.0 (iPad; CPU OS 10_2_1 like Mac OS X...   0.0             0.0   \n",
            "2     Mozilla/5.0 (Windows NT 10.0; Win64; x64) Appl...   4.0             1.0   \n",
            "3     Mozilla/5.0 (Windows NT 6.1; Win64; x64) Apple...   5.0             4.0   \n",
            "4     Mozilla/5.0 (iPhone; CPU iPhone OS 10_3_2 like...  10.0             0.5   \n",
            "...                                                 ...   ...             ...   \n",
            "8699  Mozilla/5.0 (X11; Ubuntu; Linux x86_64; rv:54....   1.0             0.0   \n",
            "8700  Mozilla/5.0 (Windows NT 10.0; Win64; x64) Appl...   0.5             0.5   \n",
            "8701  Mozilla/5.0 (X11; Linux x86_64) AppleWebKit/53...   1.0             0.5   \n",
            "8702  Mozilla/5.0 (Windows NT 6.1) AppleWebKit/537.3...   6.0             4.0   \n",
            "8703  Mozilla/5.0 (iPad; CPU OS 10_3_2 like Mac OS X...   7.0             2.0   \n",
            "\n",
            "     salary Валюта  cls  \n",
            "0       400    NaN   QA  \n",
            "1       430    NaN   QA  \n",
            "2      2500    NaN  DEV  \n",
            "3      2000    NaN  DEV  \n",
            "4      4500    NaN  DEV  \n",
            "...     ...    ...  ...  \n",
            "8699    700    NaN   QA  \n",
            "8700    400    NaN  NaN  \n",
            "8701    800    NaN  DEV  \n",
            "8702   2600    NaN   PM  \n",
            "8703   5000    NaN  DEV  \n",
            "\n",
            "[8704 rows x 25 columns]>\n"
          ]
        }
      ],
      "source": [
        "# Прочитайте файл 2017_jun_final.csv за допомогою методу read_csv\n",
        "import pandas as pd\n",
        "import numpy as np\n",
        "\n",
        "df = pd.read_csv('2017_jun.csv')\n",
        "\n",
        "# Прочитайте отриману таблицю, використовуючи метод head\n",
        "print(df.head)"
      ]
    },
    {
      "cell_type": "code",
      "execution_count": 131,
      "metadata": {
        "colab": {
          "base_uri": "https://localhost:8080/"
        },
        "id": "Ac6FPy1XejDn",
        "outputId": "4cc643bc-dd85-4f46-d61a-0a117861eecd"
      },
      "outputs": [
        {
          "name": "stdout",
          "output_type": "stream",
          "text": [
            "Розмір таблиці: (8704, 25)\n"
          ]
        }
      ],
      "source": [
        "# Визначте розмір таблиці за допомогою методу shape\n",
        "\n",
        "print(f\"Розмір таблиці: {df.shape}\")"
      ]
    },
    {
      "cell_type": "code",
      "execution_count": 132,
      "metadata": {
        "colab": {
          "base_uri": "https://localhost:8080/"
        },
        "id": "RpqVxIMKip4b",
        "outputId": "756c4e02-bd52-4fe6-9cf6-86d3d9c901a7"
      },
      "outputs": [
        {
          "name": "stdout",
          "output_type": "stream",
          "text": [
            "N                                     int64\n",
            "Посада                               object\n",
            "Мова програмування                   object\n",
            "Спеціалізація                        object\n",
            "Загальний досвід роботи              object\n",
            "Досвід роботи на поточному місці     object\n",
            "Зарплата на місяць                    int64\n",
            "Зміна зарплати за 12 місяців          int64\n",
            "Місто                                object\n",
            "Розмір компанії                      object\n",
            "Тип компанії                         object\n",
            "Стать                                object\n",
            "Вік                                   int64\n",
            "Освіта                               object\n",
            "Університет                          object\n",
            "Ще студент                             bool\n",
            "Рівень англійської                   object\n",
            "Предметна область                    object\n",
            "Дата заповнення                      object\n",
            "User.Agent                           object\n",
            "exp                                 float64\n",
            "current_job_exp                     float64\n",
            "salary                                int64\n",
            "Валюта                               object\n",
            "cls                                  object\n",
            "dtype: object\n"
          ]
        }
      ],
      "source": [
        "# Визначаємо типи всіх стовпців\n",
        "print(df.dtypes)"
      ]
    },
    {
      "cell_type": "code",
      "execution_count": 133,
      "metadata": {
        "colab": {
          "base_uri": "https://localhost:8080/"
        },
        "id": "4v68YRs7i0C0",
        "outputId": "63dd75ae-a71a-494a-dd3e-31387d86675d"
      },
      "outputs": [
        {
          "name": "stdout",
          "output_type": "stream",
          "text": [
            "   N                    Посада Мова програмування Загальний досвід роботи  \\\n",
            "0  1        Junior QA engineer                NaN                     0.5   \n",
            "1  2        Junior QA engineer                NaN         менше 3 місяців   \n",
            "2  3         Software Engineer            C#/.NET                       4   \n",
            "3  4         Software Engineer         JavaScript                       5   \n",
            "4  5  Senior Software Engineer         JavaScript       10 і більше років   \n",
            "\n",
            "  Досвід роботи на поточному місці  Зарплата на місяць  \\\n",
            "0                              0.5                 400   \n",
            "1                  менше 3 місяців                 430   \n",
            "2                                1                2500   \n",
            "3                                4                2000   \n",
            "4                              0.5                4500   \n",
            "\n",
            "   Зміна зарплати за 12 місяців   Місто   Розмір компанії   Тип компанії  \\\n",
            "0                             0  Харків        до 10 осіб  Аутсорсингова   \n",
            "1                           130  Харків  більше 1000 осіб  Аутсорсингова   \n",
            "2                           800    Київ      до 1000 осіб  Аутсорсингова   \n",
            "3                           400   Одеса       до 200 осіб     Продуктова   \n",
            "4                           500    Інше        до 10 осіб     Продуктова   \n",
            "\n",
            "      Стать  Вік             Освіта  Ще студент  \\\n",
            "0    жіноча   20       Неповна Вища        True   \n",
            "1    жіноча   21       Неповна Вища        True   \n",
            "2  чоловіча   26               Вища       False   \n",
            "3  чоловіча   30            Середня       False   \n",
            "4  чоловіча   30  Технікум / Коледж       False   \n",
            "\n",
            "                     Рівень англійської      Дата заповнення  \\\n",
            "0    Pre-intermediate (нище середнього)  12/06/2017 12:38:08   \n",
            "1  Upper-Intermediate (вище середнього)  12/06/2017 12:42:51   \n",
            "2               Intermediate (середній)  12/06/2017 13:02:47   \n",
            "3    Pre-intermediate (нище середнього)  12/06/2017 13:03:01   \n",
            "4               Intermediate (середній)  12/06/2017 13:03:47   \n",
            "\n",
            "                                          User.Agent   exp  current_job_exp  \\\n",
            "0  Mozilla/5.0 (Windows NT 10.0; Win64; x64) Appl...   0.5              0.5   \n",
            "1  Mozilla/5.0 (iPad; CPU OS 10_2_1 like Mac OS X...   0.0              0.0   \n",
            "2  Mozilla/5.0 (Windows NT 10.0; Win64; x64) Appl...   4.0              1.0   \n",
            "3  Mozilla/5.0 (Windows NT 6.1; Win64; x64) Apple...   5.0              4.0   \n",
            "4  Mozilla/5.0 (iPhone; CPU iPhone OS 10_3_2 like...  10.0              0.5   \n",
            "\n",
            "   salary  \n",
            "0     400  \n",
            "1     430  \n",
            "2    2500  \n",
            "3    2000  \n",
            "4    4500  \n",
            "N                                    0.000000\n",
            "Посада                               0.000000\n",
            "Мова програмування                  44.232537\n",
            "Загальний досвід роботи              0.000000\n",
            "Досвід роботи на поточному місці     0.000000\n",
            "Зарплата на місяць                   0.000000\n",
            "Зміна зарплати за 12 місяців         0.000000\n",
            "Місто                                0.000000\n",
            "Розмір компанії                      0.000000\n",
            "Тип компанії                         0.000000\n",
            "Стать                                0.000000\n",
            "Вік                                  0.000000\n",
            "Освіта                               0.000000\n",
            "Ще студент                           0.000000\n",
            "Рівень англійської                   0.000000\n",
            "Дата заповнення                      0.000000\n",
            "User.Agent                           0.000000\n",
            "exp                                  0.000000\n",
            "current_job_exp                      0.000000\n",
            "salary                               0.000000\n",
            "dtype: float64\n",
            "(8704, 20)\n"
          ]
        }
      ],
      "source": [
        "# Видаляємо зазначені стовпці\n",
        "df = df.drop(columns=[\"Спеціалізація\", \"Університет\", \"Предметна область\", \"Валюта\", \"cls\"], axis=1)\n",
        "print(df.head())\n",
        "\n",
        "# Підрахунок частки пропусків у кожній колонці\n",
        "missing_percentages = (df.isnull().sum() / len(df)) * 100\n",
        "print(missing_percentages)\n",
        "# Визначаємо розмір таблиці після видалення рядків з пропусками\n",
        "print(df.shape)"
      ]
    },
    {
      "cell_type": "code",
      "execution_count": 134,
      "metadata": {
        "colab": {
          "base_uri": "https://localhost:8080/"
        },
        "id": "s243bqKS3F5W",
        "outputId": "86b880dc-c5a8-4fc0-b523-9d68a10eca0d"
      },
      "outputs": [
        {
          "name": "stdout",
          "output_type": "stream",
          "text": [
            "N                                   0.0\n",
            "Посада                              0.0\n",
            "Мова програмування                  0.0\n",
            "Загальний досвід роботи             0.0\n",
            "Досвід роботи на поточному місці    0.0\n",
            "Зарплата на місяць                  0.0\n",
            "Зміна зарплати за 12 місяців        0.0\n",
            "Місто                               0.0\n",
            "Розмір компанії                     0.0\n",
            "Тип компанії                        0.0\n",
            "Стать                               0.0\n",
            "Вік                                 0.0\n",
            "Освіта                              0.0\n",
            "Ще студент                          0.0\n",
            "Рівень англійської                  0.0\n",
            "Дата заповнення                     0.0\n",
            "User.Agent                          0.0\n",
            "exp                                 0.0\n",
            "current_job_exp                     0.0\n",
            "salary                              0.0\n",
            "dtype: float64\n",
            "(4854, 20)\n",
            "<bound method NDFrame.head of          N                    Посада Мова програмування  \\\n",
            "2        3         Software Engineer            C#/.NET   \n",
            "3        4         Software Engineer         JavaScript   \n",
            "4        5  Senior Software Engineer         JavaScript   \n",
            "6        7  Junior Software Engineer            C#/.NET   \n",
            "7        8  Senior Software Engineer                C++   \n",
            "...    ...                       ...                ...   \n",
            "8692  8693         Software Engineer               Java   \n",
            "8694  8695  Junior Software Engineer            C#/.NET   \n",
            "8695  8696         Software Engineer             Python   \n",
            "8701  8702  Junior Software Engineer         Ruby/Rails   \n",
            "8703  8704  Senior Software Engineer               Java   \n",
            "\n",
            "     Загальний досвід роботи Досвід роботи на поточному місці  \\\n",
            "2                          4                                1   \n",
            "3                          5                                4   \n",
            "4          10 і більше років                              0.5   \n",
            "6                          1                  менше 3 місяців   \n",
            "7                          6                                1   \n",
            "...                      ...                              ...   \n",
            "8692                       5                                1   \n",
            "8694                       1                                1   \n",
            "8695                       1                              0.5   \n",
            "8701                       1                              0.5   \n",
            "8703                       7                                2   \n",
            "\n",
            "      Зарплата на місяць  Зміна зарплати за 12 місяців         Місто  \\\n",
            "2                   2500                           800          Київ   \n",
            "3                   2000                           400         Одеса   \n",
            "4                   4500                           500          Інше   \n",
            "6                    600                           100  Хмельницький   \n",
            "7                   3300                           500          Київ   \n",
            "...                  ...                           ...           ...   \n",
            "8692                3500                           650     Віддалено   \n",
            "8694                 550                           550        Харків   \n",
            "8695                1500                          1000          Київ   \n",
            "8701                 800                           500         Львів   \n",
            "8703                5000                           800         Одеса   \n",
            "\n",
            "     Розмір компанії   Тип компанії     Стать  Вік             Освіта  \\\n",
            "2       до 1000 осіб  Аутсорсингова  чоловіча   26               Вища   \n",
            "3        до 200 осіб     Продуктова  чоловіча   30            Середня   \n",
            "4         до 10 осіб     Продуктова  чоловіча   30  Технікум / Коледж   \n",
            "6         до 50 осіб  Аутсорсингова  чоловіча   23               Вища   \n",
            "7         до 10 осіб     Продуктова  чоловіча   28               Вища   \n",
            "...              ...            ...       ...  ...                ...   \n",
            "8692     до 200 осіб  Аутсорсингова    жіноча   28               Вища   \n",
            "8694     до 200 осіб  Аутсорсингова  чоловіча   23               Вища   \n",
            "8695      до 10 осіб        Стартап  чоловіча   29               Вища   \n",
            "8701      до 10 осіб  Аутстафінгова  чоловіча   30       Неповна Вища   \n",
            "8703    до 1000 осіб     Продуктова  чоловіча   28               Вища   \n",
            "\n",
            "      Ще студент                    Рівень англійської      Дата заповнення  \\\n",
            "2          False               Intermediate (середній)  12/06/2017 13:02:47   \n",
            "3          False    Pre-intermediate (нище середнього)  12/06/2017 13:03:01   \n",
            "4          False               Intermediate (середній)  12/06/2017 13:03:47   \n",
            "6          False    Pre-intermediate (нище середнього)  12/06/2017 13:04:26   \n",
            "7          False  Upper-Intermediate (вище середнього)  12/06/2017 13:04:27   \n",
            "...          ...                                   ...                  ...   \n",
            "8692       False               Intermediate (середній)  12/07/2017 13:26:49   \n",
            "8694       False    Pre-intermediate (нище середнього)  12/07/2017 14:14:33   \n",
            "8695       False               Intermediate (середній)  12/07/2017 14:39:21   \n",
            "8701       False  Upper-Intermediate (вище середнього)  12/07/2017 17:32:26   \n",
            "8703       False  Upper-Intermediate (вище середнього)  12/07/2017 21:28:57   \n",
            "\n",
            "                                             User.Agent   exp  \\\n",
            "2     Mozilla/5.0 (Windows NT 10.0; Win64; x64) Appl...   4.0   \n",
            "3     Mozilla/5.0 (Windows NT 6.1; Win64; x64) Apple...   5.0   \n",
            "4     Mozilla/5.0 (iPhone; CPU iPhone OS 10_3_2 like...  10.0   \n",
            "6     Mozilla/5.0 (Windows NT 10.0; Win64; x64) Appl...   1.0   \n",
            "7     Mozilla/5.0 (X11; Ubuntu; Linux x86_64; rv:53....   6.0   \n",
            "...                                                 ...   ...   \n",
            "8692  Mozilla/5.0 (Macintosh; Intel Mac OS X 10_12_5...   5.0   \n",
            "8694  Mozilla/5.0 (Windows NT 10.0; WOW64; rv:54.0) ...   1.0   \n",
            "8695  Mozilla/5.0 (X11; Linux x86_64) AppleWebKit/53...   1.0   \n",
            "8701  Mozilla/5.0 (X11; Linux x86_64) AppleWebKit/53...   1.0   \n",
            "8703  Mozilla/5.0 (iPad; CPU OS 10_3_2 like Mac OS X...   7.0   \n",
            "\n",
            "      current_job_exp  salary  \n",
            "2                 1.0    2500  \n",
            "3                 4.0    2000  \n",
            "4                 0.5    4500  \n",
            "6                 0.0     600  \n",
            "7                 1.0    3300  \n",
            "...               ...     ...  \n",
            "8692              1.0    3500  \n",
            "8694              1.0     550  \n",
            "8695              0.5    1500  \n",
            "8701              0.5     800  \n",
            "8703              2.0    5000  \n",
            "\n",
            "[4854 rows x 20 columns]>\n"
          ]
        }
      ],
      "source": [
        "# Видаляємо всі рядки з пропусками, крім стовпця \"Мова програмування\"\n",
        "df = df.dropna(subset=['Мова програмування'])\n",
        "\n",
        "# Підрахунок частки пропусків у кожній колонці після видалення рядків\n",
        "missing_percentages = (df.isnull().sum() / len(df)) * 100\n",
        "print(missing_percentages)\n",
        "\n",
        "# Визначаємо новий розмір таблиці за допомогою методу shape\n",
        "print(df.shape)\n",
        "print(df.head)"
      ]
    },
    {
      "cell_type": "code",
      "execution_count": 145,
      "metadata": {
        "colab": {
          "base_uri": "https://localhost:8080/"
        },
        "id": "QYzH_cVt3lPS",
        "outputId": "97e170a6-c10d-4201-d84c-c64ec7fb4ddd"
      },
      "outputs": [
        {
          "name": "stdout",
          "output_type": "stream",
          "text": [
            "Розмір таблиці python_data: (207, 20)\n"
          ]
        }
      ],
      "source": [
        "# Створюємо нову таблицю python_data з рядками, де \"Мова програмування\" == \"Python\"\n",
        "python_data = df[df['Мова програмування'] == 'Python']\n",
        "\n",
        "# Визначаємо розмір таблиці python_data за допомогою методу shape\n",
        "print(f\"Розмір таблиці python_data: {python_data.shape}\")\n",
        "\n",
        "# Використовуємо метод groupby для групивання за стовпчиком \"Посада\"\n",
        "grouped_data = python_data.groupby('Посада')\n",
        "\n",
        "# Виводимо перші рядки групи 'Посада'\n",
        "# for name, group in grouped_data:\n",
        "#     print(f\"Група '{name}':\")\n",
        "#     print(group.head())"
      ]
    },
    {
      "cell_type": "code",
      "execution_count": 151,
      "metadata": {
        "colab": {
          "base_uri": "https://localhost:8080/"
        },
        "id": "fTHAWGXO3vGq",
        "outputId": "81aed78b-9237-46f8-dbea-cb840f539974"
      },
      "outputs": [
        {
          "name": "stdout",
          "output_type": "stream",
          "text": [
            "count       5.000000\n",
            "mean     2582.583427\n",
            "std      1387.255829\n",
            "min       560.841270\n",
            "25%      1799.070000\n",
            "50%      3165.909091\n",
            "75%      3387.096774\n",
            "max      4000.000000\n",
            "Name: avg, dtype: float64\n",
            "                           min   max          avg\n",
            "Посада                                           \n",
            "Junior Software Engineer   100  1250   560.841270\n",
            "Senior Software Engineer  1300  9200  3387.096774\n",
            "Software Engineer          500  5400  1799.070000\n",
            "System Architect          3000  5000  4000.000000\n",
            "Technical Lead            1425  6200  3165.909091\n"
          ]
        }
      ],
      "source": [
        "# Створюємо функцію для обчислення середньої зарплати\n",
        "def fill_avg_salary(group):\n",
        "    return group['Зарплата на місяць'].mean()\n",
        "\n",
        "# Виконуємо агрегацію даних за допомогою методу agg і знаходимо мінімальне та максимальне значення у стовпчику \"Зарплата.в.місяць\"\n",
        "aggregated_data = grouped_data['Зарплата на місяць'].agg(['min', 'max'])\n",
        "\n",
        "# Застосовуємо функцію fill_avg_salary та створюємо новий стовпчик \"avg\"\n",
        "aggregated_data['avg'] = grouped_data.apply(fill_avg_salary)\n",
        "\n",
        "# Створюємо описову статистику за допомогою методу describe для нового стовпчика \"avg\"\n",
        "avg_stats = aggregated_data['avg'].describe()\n",
        "\n",
        "# Виводимо статистику\n",
        "print(avg_stats)\n",
        "\n",
        "# Виводимо агреговані дані\n",
        "print(aggregated_data)"
      ]
    },
    {
      "cell_type": "code",
      "execution_count": 152,
      "metadata": {
        "id": "lmGUY_k98khJ"
      },
      "outputs": [],
      "source": [
        "# Збереження агрегованої таблиці в CSV файл\n",
        "aggregated_data.to_csv('aggregated_data.csv', index=False)"
      ]
    },
    {
      "cell_type": "code",
      "execution_count": 154,
      "metadata": {
        "colab": {
          "base_uri": "https://localhost:8080/"
        },
        "id": "UApmfTr88z_T",
        "outputId": "9036f53d-21a3-4074-ebf8-2dd3c6e67322"
      },
      "outputs": [
        {
          "name": "stdout",
          "output_type": "stream",
          "text": [
            "    min   max          avg\n",
            "0   100  1250   560.841270\n",
            "1  1300  9200  3387.096774\n",
            "2   500  5400  1799.070000\n",
            "3  3000  5000  4000.000000\n",
            "4  1425  6200  3165.909091\n"
          ]
        }
      ],
      "source": [
        "df2 = pd.read_csv('aggregated_data.csv')\n",
        "\n",
        "# Прочитайте отриману таблицю, використовуючи метод head\n",
        "print(df2)"
      ]
    }
  ],
  "metadata": {
    "colab": {
      "provenance": []
    },
    "kernelspec": {
      "display_name": "Python 3",
      "name": "python3"
    },
    "language_info": {
      "codemirror_mode": {
        "name": "ipython",
        "version": 3
      },
      "file_extension": ".py",
      "mimetype": "text/x-python",
      "name": "python",
      "nbconvert_exporter": "python",
      "pygments_lexer": "ipython3",
      "version": "3.12.3"
    }
  },
  "nbformat": 4,
  "nbformat_minor": 0
}
